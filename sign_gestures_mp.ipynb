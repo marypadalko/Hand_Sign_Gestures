{
  "nbformat": 4,
  "nbformat_minor": 0,
  "metadata": {
    "colab": {
      "name": "sign_gestures_mp.ipynb",
      "provenance": [],
      "toc_visible": true,
      "machine_shape": "hm"
    },
    "kernelspec": {
      "name": "python3",
      "display_name": "Python 3"
    },
    "accelerator": "GPU"
  },
  "cells": [
    {
      "cell_type": "markdown",
      "metadata": {
        "id": "vtnfyL8Kh6R8",
        "colab_type": "text"
      },
      "source": [
        "# Hand Gestures recognition\n",
        "\n",
        "Authors: Vladimir Gurevich & Mariia Padalko"
      ]
    },
    {
      "cell_type": "code",
      "metadata": {
        "id": "pOsRNqIIiHha",
        "colab_type": "code",
        "colab": {
          "base_uri": "https://localhost:8080/",
          "height": 70
        },
        "outputId": "17d648f2-6162-42b3-dd08-8a1406812f45"
      },
      "source": [
        "import numpy as np\n",
        "import seaborn as sns\n",
        "import matplotlib.pyplot as plt\n",
        "import os\n",
        "%matplotlib inline\n",
        "\n",
        "import pandas as pd\n",
        "\n",
        "BASE_PATH = '/content/drive/My Drive'\n",
        "PATH_AUG = os.path.join(BASE_PATH, 'sign_aug.csv')\n",
        "TRAIN_PATH = os.path.join(BASE_PATH, 'sign_mnist_train.csv')\n",
        "TEST_PATH = os.path.join(BASE_PATH, 'sign_mnist_test.csv')\n"
      ],
      "execution_count": 5,
      "outputs": [
        {
          "output_type": "stream",
          "text": [
            "/usr/local/lib/python3.6/dist-packages/statsmodels/tools/_testing.py:19: FutureWarning: pandas.util.testing is deprecated. Use the functions in the public API at pandas.testing instead.\n",
            "  import pandas.util.testing as tm\n"
          ],
          "name": "stderr"
        }
      ]
    },
    {
      "cell_type": "code",
      "metadata": {
        "id": "oTZDTnAkpVgP",
        "colab_type": "code",
        "colab": {
          "base_uri": "https://localhost:8080/",
          "height": 244
        },
        "outputId": "dd1fcbc6-44a7-492e-bcd1-48718f78a554"
      },
      "source": [
        "df = pd.read_csv(TRAIN_PATH)\n",
        "df_test = pd.read_csv(TEST_PATH)\n",
        "df.head()"
      ],
      "execution_count": 6,
      "outputs": [
        {
          "output_type": "execute_result",
          "data": {
            "text/html": [
              "<div>\n",
              "<style scoped>\n",
              "    .dataframe tbody tr th:only-of-type {\n",
              "        vertical-align: middle;\n",
              "    }\n",
              "\n",
              "    .dataframe tbody tr th {\n",
              "        vertical-align: top;\n",
              "    }\n",
              "\n",
              "    .dataframe thead th {\n",
              "        text-align: right;\n",
              "    }\n",
              "</style>\n",
              "<table border=\"1\" class=\"dataframe\">\n",
              "  <thead>\n",
              "    <tr style=\"text-align: right;\">\n",
              "      <th></th>\n",
              "      <th>label</th>\n",
              "      <th>pixel1</th>\n",
              "      <th>pixel2</th>\n",
              "      <th>pixel3</th>\n",
              "      <th>pixel4</th>\n",
              "      <th>pixel5</th>\n",
              "      <th>pixel6</th>\n",
              "      <th>pixel7</th>\n",
              "      <th>pixel8</th>\n",
              "      <th>pixel9</th>\n",
              "      <th>pixel10</th>\n",
              "      <th>pixel11</th>\n",
              "      <th>pixel12</th>\n",
              "      <th>pixel13</th>\n",
              "      <th>pixel14</th>\n",
              "      <th>pixel15</th>\n",
              "      <th>pixel16</th>\n",
              "      <th>pixel17</th>\n",
              "      <th>pixel18</th>\n",
              "      <th>pixel19</th>\n",
              "      <th>pixel20</th>\n",
              "      <th>pixel21</th>\n",
              "      <th>pixel22</th>\n",
              "      <th>pixel23</th>\n",
              "      <th>pixel24</th>\n",
              "      <th>pixel25</th>\n",
              "      <th>pixel26</th>\n",
              "      <th>pixel27</th>\n",
              "      <th>pixel28</th>\n",
              "      <th>pixel29</th>\n",
              "      <th>pixel30</th>\n",
              "      <th>pixel31</th>\n",
              "      <th>pixel32</th>\n",
              "      <th>pixel33</th>\n",
              "      <th>pixel34</th>\n",
              "      <th>pixel35</th>\n",
              "      <th>pixel36</th>\n",
              "      <th>pixel37</th>\n",
              "      <th>pixel38</th>\n",
              "      <th>pixel39</th>\n",
              "      <th>...</th>\n",
              "      <th>pixel745</th>\n",
              "      <th>pixel746</th>\n",
              "      <th>pixel747</th>\n",
              "      <th>pixel748</th>\n",
              "      <th>pixel749</th>\n",
              "      <th>pixel750</th>\n",
              "      <th>pixel751</th>\n",
              "      <th>pixel752</th>\n",
              "      <th>pixel753</th>\n",
              "      <th>pixel754</th>\n",
              "      <th>pixel755</th>\n",
              "      <th>pixel756</th>\n",
              "      <th>pixel757</th>\n",
              "      <th>pixel758</th>\n",
              "      <th>pixel759</th>\n",
              "      <th>pixel760</th>\n",
              "      <th>pixel761</th>\n",
              "      <th>pixel762</th>\n",
              "      <th>pixel763</th>\n",
              "      <th>pixel764</th>\n",
              "      <th>pixel765</th>\n",
              "      <th>pixel766</th>\n",
              "      <th>pixel767</th>\n",
              "      <th>pixel768</th>\n",
              "      <th>pixel769</th>\n",
              "      <th>pixel770</th>\n",
              "      <th>pixel771</th>\n",
              "      <th>pixel772</th>\n",
              "      <th>pixel773</th>\n",
              "      <th>pixel774</th>\n",
              "      <th>pixel775</th>\n",
              "      <th>pixel776</th>\n",
              "      <th>pixel777</th>\n",
              "      <th>pixel778</th>\n",
              "      <th>pixel779</th>\n",
              "      <th>pixel780</th>\n",
              "      <th>pixel781</th>\n",
              "      <th>pixel782</th>\n",
              "      <th>pixel783</th>\n",
              "      <th>pixel784</th>\n",
              "    </tr>\n",
              "  </thead>\n",
              "  <tbody>\n",
              "    <tr>\n",
              "      <th>0</th>\n",
              "      <td>3</td>\n",
              "      <td>107</td>\n",
              "      <td>118</td>\n",
              "      <td>127</td>\n",
              "      <td>134</td>\n",
              "      <td>139</td>\n",
              "      <td>143</td>\n",
              "      <td>146</td>\n",
              "      <td>150</td>\n",
              "      <td>153</td>\n",
              "      <td>156</td>\n",
              "      <td>158</td>\n",
              "      <td>160</td>\n",
              "      <td>163</td>\n",
              "      <td>165</td>\n",
              "      <td>159</td>\n",
              "      <td>166</td>\n",
              "      <td>168</td>\n",
              "      <td>170</td>\n",
              "      <td>170</td>\n",
              "      <td>171</td>\n",
              "      <td>171</td>\n",
              "      <td>171</td>\n",
              "      <td>172</td>\n",
              "      <td>171</td>\n",
              "      <td>171</td>\n",
              "      <td>170</td>\n",
              "      <td>170</td>\n",
              "      <td>169</td>\n",
              "      <td>111</td>\n",
              "      <td>121</td>\n",
              "      <td>129</td>\n",
              "      <td>135</td>\n",
              "      <td>141</td>\n",
              "      <td>144</td>\n",
              "      <td>148</td>\n",
              "      <td>151</td>\n",
              "      <td>154</td>\n",
              "      <td>157</td>\n",
              "      <td>160</td>\n",
              "      <td>...</td>\n",
              "      <td>205</td>\n",
              "      <td>206</td>\n",
              "      <td>206</td>\n",
              "      <td>207</td>\n",
              "      <td>207</td>\n",
              "      <td>206</td>\n",
              "      <td>206</td>\n",
              "      <td>204</td>\n",
              "      <td>205</td>\n",
              "      <td>204</td>\n",
              "      <td>203</td>\n",
              "      <td>202</td>\n",
              "      <td>142</td>\n",
              "      <td>151</td>\n",
              "      <td>160</td>\n",
              "      <td>172</td>\n",
              "      <td>196</td>\n",
              "      <td>188</td>\n",
              "      <td>188</td>\n",
              "      <td>190</td>\n",
              "      <td>135</td>\n",
              "      <td>96</td>\n",
              "      <td>86</td>\n",
              "      <td>77</td>\n",
              "      <td>77</td>\n",
              "      <td>79</td>\n",
              "      <td>176</td>\n",
              "      <td>205</td>\n",
              "      <td>207</td>\n",
              "      <td>207</td>\n",
              "      <td>207</td>\n",
              "      <td>207</td>\n",
              "      <td>207</td>\n",
              "      <td>207</td>\n",
              "      <td>206</td>\n",
              "      <td>206</td>\n",
              "      <td>206</td>\n",
              "      <td>204</td>\n",
              "      <td>203</td>\n",
              "      <td>202</td>\n",
              "    </tr>\n",
              "    <tr>\n",
              "      <th>1</th>\n",
              "      <td>6</td>\n",
              "      <td>155</td>\n",
              "      <td>157</td>\n",
              "      <td>156</td>\n",
              "      <td>156</td>\n",
              "      <td>156</td>\n",
              "      <td>157</td>\n",
              "      <td>156</td>\n",
              "      <td>158</td>\n",
              "      <td>158</td>\n",
              "      <td>157</td>\n",
              "      <td>158</td>\n",
              "      <td>156</td>\n",
              "      <td>154</td>\n",
              "      <td>154</td>\n",
              "      <td>153</td>\n",
              "      <td>152</td>\n",
              "      <td>151</td>\n",
              "      <td>149</td>\n",
              "      <td>149</td>\n",
              "      <td>148</td>\n",
              "      <td>147</td>\n",
              "      <td>146</td>\n",
              "      <td>144</td>\n",
              "      <td>142</td>\n",
              "      <td>143</td>\n",
              "      <td>138</td>\n",
              "      <td>92</td>\n",
              "      <td>108</td>\n",
              "      <td>158</td>\n",
              "      <td>159</td>\n",
              "      <td>159</td>\n",
              "      <td>159</td>\n",
              "      <td>160</td>\n",
              "      <td>160</td>\n",
              "      <td>160</td>\n",
              "      <td>160</td>\n",
              "      <td>160</td>\n",
              "      <td>160</td>\n",
              "      <td>160</td>\n",
              "      <td>...</td>\n",
              "      <td>100</td>\n",
              "      <td>78</td>\n",
              "      <td>120</td>\n",
              "      <td>157</td>\n",
              "      <td>168</td>\n",
              "      <td>107</td>\n",
              "      <td>99</td>\n",
              "      <td>121</td>\n",
              "      <td>133</td>\n",
              "      <td>97</td>\n",
              "      <td>95</td>\n",
              "      <td>120</td>\n",
              "      <td>135</td>\n",
              "      <td>116</td>\n",
              "      <td>95</td>\n",
              "      <td>79</td>\n",
              "      <td>69</td>\n",
              "      <td>86</td>\n",
              "      <td>139</td>\n",
              "      <td>173</td>\n",
              "      <td>200</td>\n",
              "      <td>185</td>\n",
              "      <td>175</td>\n",
              "      <td>198</td>\n",
              "      <td>124</td>\n",
              "      <td>118</td>\n",
              "      <td>94</td>\n",
              "      <td>140</td>\n",
              "      <td>133</td>\n",
              "      <td>84</td>\n",
              "      <td>69</td>\n",
              "      <td>149</td>\n",
              "      <td>128</td>\n",
              "      <td>87</td>\n",
              "      <td>94</td>\n",
              "      <td>163</td>\n",
              "      <td>175</td>\n",
              "      <td>103</td>\n",
              "      <td>135</td>\n",
              "      <td>149</td>\n",
              "    </tr>\n",
              "    <tr>\n",
              "      <th>2</th>\n",
              "      <td>2</td>\n",
              "      <td>187</td>\n",
              "      <td>188</td>\n",
              "      <td>188</td>\n",
              "      <td>187</td>\n",
              "      <td>187</td>\n",
              "      <td>186</td>\n",
              "      <td>187</td>\n",
              "      <td>188</td>\n",
              "      <td>187</td>\n",
              "      <td>186</td>\n",
              "      <td>185</td>\n",
              "      <td>185</td>\n",
              "      <td>185</td>\n",
              "      <td>184</td>\n",
              "      <td>184</td>\n",
              "      <td>184</td>\n",
              "      <td>181</td>\n",
              "      <td>181</td>\n",
              "      <td>179</td>\n",
              "      <td>179</td>\n",
              "      <td>179</td>\n",
              "      <td>178</td>\n",
              "      <td>178</td>\n",
              "      <td>109</td>\n",
              "      <td>52</td>\n",
              "      <td>66</td>\n",
              "      <td>77</td>\n",
              "      <td>83</td>\n",
              "      <td>188</td>\n",
              "      <td>189</td>\n",
              "      <td>189</td>\n",
              "      <td>188</td>\n",
              "      <td>188</td>\n",
              "      <td>189</td>\n",
              "      <td>188</td>\n",
              "      <td>188</td>\n",
              "      <td>188</td>\n",
              "      <td>188</td>\n",
              "      <td>187</td>\n",
              "      <td>...</td>\n",
              "      <td>203</td>\n",
              "      <td>204</td>\n",
              "      <td>203</td>\n",
              "      <td>201</td>\n",
              "      <td>200</td>\n",
              "      <td>200</td>\n",
              "      <td>199</td>\n",
              "      <td>198</td>\n",
              "      <td>196</td>\n",
              "      <td>195</td>\n",
              "      <td>194</td>\n",
              "      <td>193</td>\n",
              "      <td>198</td>\n",
              "      <td>166</td>\n",
              "      <td>132</td>\n",
              "      <td>114</td>\n",
              "      <td>89</td>\n",
              "      <td>74</td>\n",
              "      <td>79</td>\n",
              "      <td>77</td>\n",
              "      <td>74</td>\n",
              "      <td>78</td>\n",
              "      <td>132</td>\n",
              "      <td>188</td>\n",
              "      <td>210</td>\n",
              "      <td>209</td>\n",
              "      <td>206</td>\n",
              "      <td>205</td>\n",
              "      <td>204</td>\n",
              "      <td>203</td>\n",
              "      <td>202</td>\n",
              "      <td>201</td>\n",
              "      <td>200</td>\n",
              "      <td>199</td>\n",
              "      <td>198</td>\n",
              "      <td>199</td>\n",
              "      <td>198</td>\n",
              "      <td>195</td>\n",
              "      <td>194</td>\n",
              "      <td>195</td>\n",
              "    </tr>\n",
              "    <tr>\n",
              "      <th>3</th>\n",
              "      <td>2</td>\n",
              "      <td>211</td>\n",
              "      <td>211</td>\n",
              "      <td>212</td>\n",
              "      <td>212</td>\n",
              "      <td>211</td>\n",
              "      <td>210</td>\n",
              "      <td>211</td>\n",
              "      <td>210</td>\n",
              "      <td>210</td>\n",
              "      <td>211</td>\n",
              "      <td>209</td>\n",
              "      <td>207</td>\n",
              "      <td>208</td>\n",
              "      <td>207</td>\n",
              "      <td>206</td>\n",
              "      <td>203</td>\n",
              "      <td>202</td>\n",
              "      <td>201</td>\n",
              "      <td>200</td>\n",
              "      <td>198</td>\n",
              "      <td>197</td>\n",
              "      <td>195</td>\n",
              "      <td>192</td>\n",
              "      <td>197</td>\n",
              "      <td>171</td>\n",
              "      <td>51</td>\n",
              "      <td>52</td>\n",
              "      <td>54</td>\n",
              "      <td>212</td>\n",
              "      <td>213</td>\n",
              "      <td>215</td>\n",
              "      <td>215</td>\n",
              "      <td>212</td>\n",
              "      <td>212</td>\n",
              "      <td>213</td>\n",
              "      <td>212</td>\n",
              "      <td>212</td>\n",
              "      <td>211</td>\n",
              "      <td>211</td>\n",
              "      <td>...</td>\n",
              "      <td>247</td>\n",
              "      <td>242</td>\n",
              "      <td>233</td>\n",
              "      <td>231</td>\n",
              "      <td>230</td>\n",
              "      <td>229</td>\n",
              "      <td>227</td>\n",
              "      <td>225</td>\n",
              "      <td>223</td>\n",
              "      <td>221</td>\n",
              "      <td>220</td>\n",
              "      <td>216</td>\n",
              "      <td>58</td>\n",
              "      <td>51</td>\n",
              "      <td>49</td>\n",
              "      <td>50</td>\n",
              "      <td>57</td>\n",
              "      <td>60</td>\n",
              "      <td>17</td>\n",
              "      <td>15</td>\n",
              "      <td>18</td>\n",
              "      <td>17</td>\n",
              "      <td>19</td>\n",
              "      <td>1</td>\n",
              "      <td>159</td>\n",
              "      <td>255</td>\n",
              "      <td>237</td>\n",
              "      <td>239</td>\n",
              "      <td>237</td>\n",
              "      <td>236</td>\n",
              "      <td>235</td>\n",
              "      <td>234</td>\n",
              "      <td>233</td>\n",
              "      <td>231</td>\n",
              "      <td>230</td>\n",
              "      <td>226</td>\n",
              "      <td>225</td>\n",
              "      <td>222</td>\n",
              "      <td>229</td>\n",
              "      <td>163</td>\n",
              "    </tr>\n",
              "    <tr>\n",
              "      <th>4</th>\n",
              "      <td>13</td>\n",
              "      <td>164</td>\n",
              "      <td>167</td>\n",
              "      <td>170</td>\n",
              "      <td>172</td>\n",
              "      <td>176</td>\n",
              "      <td>179</td>\n",
              "      <td>180</td>\n",
              "      <td>184</td>\n",
              "      <td>185</td>\n",
              "      <td>186</td>\n",
              "      <td>188</td>\n",
              "      <td>189</td>\n",
              "      <td>189</td>\n",
              "      <td>190</td>\n",
              "      <td>191</td>\n",
              "      <td>189</td>\n",
              "      <td>190</td>\n",
              "      <td>190</td>\n",
              "      <td>187</td>\n",
              "      <td>190</td>\n",
              "      <td>192</td>\n",
              "      <td>193</td>\n",
              "      <td>191</td>\n",
              "      <td>191</td>\n",
              "      <td>192</td>\n",
              "      <td>192</td>\n",
              "      <td>194</td>\n",
              "      <td>194</td>\n",
              "      <td>166</td>\n",
              "      <td>169</td>\n",
              "      <td>172</td>\n",
              "      <td>174</td>\n",
              "      <td>177</td>\n",
              "      <td>180</td>\n",
              "      <td>182</td>\n",
              "      <td>185</td>\n",
              "      <td>186</td>\n",
              "      <td>187</td>\n",
              "      <td>190</td>\n",
              "      <td>...</td>\n",
              "      <td>90</td>\n",
              "      <td>77</td>\n",
              "      <td>88</td>\n",
              "      <td>117</td>\n",
              "      <td>123</td>\n",
              "      <td>127</td>\n",
              "      <td>129</td>\n",
              "      <td>134</td>\n",
              "      <td>145</td>\n",
              "      <td>152</td>\n",
              "      <td>156</td>\n",
              "      <td>179</td>\n",
              "      <td>105</td>\n",
              "      <td>106</td>\n",
              "      <td>105</td>\n",
              "      <td>104</td>\n",
              "      <td>104</td>\n",
              "      <td>104</td>\n",
              "      <td>175</td>\n",
              "      <td>199</td>\n",
              "      <td>178</td>\n",
              "      <td>152</td>\n",
              "      <td>136</td>\n",
              "      <td>130</td>\n",
              "      <td>136</td>\n",
              "      <td>150</td>\n",
              "      <td>118</td>\n",
              "      <td>92</td>\n",
              "      <td>85</td>\n",
              "      <td>76</td>\n",
              "      <td>92</td>\n",
              "      <td>105</td>\n",
              "      <td>105</td>\n",
              "      <td>108</td>\n",
              "      <td>133</td>\n",
              "      <td>163</td>\n",
              "      <td>157</td>\n",
              "      <td>163</td>\n",
              "      <td>164</td>\n",
              "      <td>179</td>\n",
              "    </tr>\n",
              "  </tbody>\n",
              "</table>\n",
              "<p>5 rows × 785 columns</p>\n",
              "</div>"
            ],
            "text/plain": [
              "   label  pixel1  pixel2  pixel3  ...  pixel781  pixel782  pixel783  pixel784\n",
              "0      3     107     118     127  ...       206       204       203       202\n",
              "1      6     155     157     156  ...       175       103       135       149\n",
              "2      2     187     188     188  ...       198       195       194       195\n",
              "3      2     211     211     212  ...       225       222       229       163\n",
              "4     13     164     167     170  ...       157       163       164       179\n",
              "\n",
              "[5 rows x 785 columns]"
            ]
          },
          "metadata": {
            "tags": []
          },
          "execution_count": 6
        }
      ]
    },
    {
      "cell_type": "code",
      "metadata": {
        "id": "tp-IyQfcq2n_",
        "colab_type": "code",
        "colab": {
          "base_uri": "https://localhost:8080/",
          "height": 101
        },
        "outputId": "f499f423-bac2-4d32-ffbf-c22080eebf87"
      },
      "source": [
        "df.info()"
      ],
      "execution_count": 5,
      "outputs": [
        {
          "output_type": "stream",
          "text": [
            "<class 'pandas.core.frame.DataFrame'>\n",
            "RangeIndex: 27455 entries, 0 to 27454\n",
            "Columns: 785 entries, label to pixel784\n",
            "dtypes: int64(785)\n",
            "memory usage: 164.4 MB\n"
          ],
          "name": "stdout"
        }
      ]
    },
    {
      "cell_type": "code",
      "metadata": {
        "id": "zgZJ8Znwq6hd",
        "colab_type": "code",
        "colab": {
          "base_uri": "https://localhost:8080/",
          "height": 437
        },
        "outputId": "11d21593-3a18-4b9d-d8f6-47a3a17939da"
      },
      "source": [
        "# initial trainset target distribution\n",
        "df.label.value_counts()"
      ],
      "execution_count": 8,
      "outputs": [
        {
          "output_type": "execute_result",
          "data": {
            "text/plain": [
              "17    1294\n",
              "16    1279\n",
              "11    1241\n",
              "22    1225\n",
              "5     1204\n",
              "18    1199\n",
              "14    1196\n",
              "3     1196\n",
              "19    1186\n",
              "23    1164\n",
              "8     1162\n",
              "20    1161\n",
              "13    1151\n",
              "2     1144\n",
              "0     1126\n",
              "24    1118\n",
              "10    1114\n",
              "6     1090\n",
              "15    1088\n",
              "21    1082\n",
              "12    1055\n",
              "7     1013\n",
              "1     1010\n",
              "4      957\n",
              "Name: label, dtype: int64"
            ]
          },
          "metadata": {
            "tags": []
          },
          "execution_count": 8
        }
      ]
    },
    {
      "cell_type": "code",
      "metadata": {
        "id": "gTm0y24prELI",
        "colab_type": "code",
        "colab": {}
      },
      "source": [
        "# gestures' meaning = letters in english alpabet\n",
        "# but for some reasons no 9=j and 25=z in labels\n",
        "alpabet_sign = {0: 'a',\n",
        "                1: 'b',\n",
        "                2: 'c',\n",
        "                3: 'd', \n",
        "                4: 'e',\n",
        "                5: 'f', \n",
        "                6: 'g',\n",
        "                7: 'h',\n",
        "                8: 'i',\n",
        "                9: 'j',\n",
        "                10: 'k', \n",
        "                11: 'l', \n",
        "                12: 'm',\n",
        "                13: 'n', \n",
        "                14: 'o',\n",
        "                15: 'p',\n",
        "                16: 'q',\n",
        "                17: 'r',\n",
        "                18: 's',\n",
        "                19: 't',\n",
        "                20: 'u',\n",
        "                21: 'v',\n",
        "                22: 'w',\n",
        "                23: 'x',\n",
        "                24: 'y',\n",
        "                25: 'z'}"
      ],
      "execution_count": 9,
      "outputs": []
    },
    {
      "cell_type": "markdown",
      "metadata": {
        "id": "Ts83V0OdsIj8",
        "colab_type": "text"
      },
      "source": [
        "### OK, to start let's plot some pics selected randomly"
      ]
    },
    {
      "cell_type": "code",
      "metadata": {
        "id": "TOX9NIPfBM6y",
        "colab_type": "code",
        "colab": {
          "base_uri": "https://localhost:8080/",
          "height": 1000
        },
        "outputId": "b5c46d96-e728-49ca-9b3c-4b6dab55b1a0"
      },
      "source": [
        "_, axs = plt.subplots(6, 4, figsize=(18, 26))\n",
        "axs = axs.flatten()\n",
        "for lab, ax in zip(np.unique(df.label), axs):\n",
        "    img_array = np.array(df[df.label == lab].sample(1).iloc[:,1:]).reshape(28, 28)\n",
        "    ax.imshow(img_array)\n",
        "    ax.set_title(f'label: {alpabet_sign[lab]} or {lab} ')\n",
        "plt.show()"
      ],
      "execution_count": 47,
      "outputs": [
        {
          "output_type": "display_data",
          "data": {
            "image/png": "[encoded data removed]",
            "text/plain": [
              "<Figure size 1296x1872 with 24 Axes>"
            ]
          },
          "metadata": {
            "tags": [],
            "needs_background": "light"
          }
        }
      ]
    },
    {
      "cell_type": "code",
      "metadata": {
        "id": "PG1Vy_Rjs0z0",
        "colab_type": "code",
        "colab": {}
      },
      "source": [
        "# for i, lab in enumerate(np.unique(df.label)):\n",
        "#     img_array = np.array(df[df.label == lab].sample(1).iloc[:,1:]).reshape(28, 28)\n",
        "#     plt.figure(figsize=(3, 3))\n",
        "#     plt.imshow(img_array)\n",
        "#     plt.title(f'Assigmed label: {alpabet_sign[lab]} or {lab}')\n",
        "# plt.tight_layout()"
      ],
      "execution_count": 46,
      "outputs": []
    },
    {
      "cell_type": "markdown",
      "metadata": {
        "id": "IxeW0Z5mwd7j",
        "colab_type": "text"
      },
      "source": [
        "### Checking duplicates and NANs"
      ]
    },
    {
      "cell_type": "code",
      "metadata": {
        "id": "hgsara-Nwg09",
        "colab_type": "code",
        "colab": {
          "base_uri": "https://localhost:8080/",
          "height": 34
        },
        "outputId": "eb01e223-adff-47ed-c05b-2b118b7b8ab5"
      },
      "source": [
        "df.iloc[:,1:].duplicated().sum()"
      ],
      "execution_count": null,
      "outputs": [
        {
          "output_type": "execute_result",
          "data": {
            "text/plain": [
              "0"
            ]
          },
          "metadata": {
            "tags": []
          },
          "execution_count": 25
        }
      ]
    },
    {
      "cell_type": "code",
      "metadata": {
        "id": "kOM5MR3fwpNK",
        "colab_type": "code",
        "colab": {
          "base_uri": "https://localhost:8080/",
          "height": 34
        },
        "outputId": "3124589a-e059-49fc-efa7-141876203679"
      },
      "source": [
        "df.isna().sum().sum()"
      ],
      "execution_count": null,
      "outputs": [
        {
          "output_type": "execute_result",
          "data": {
            "text/plain": [
              "0"
            ]
          },
          "metadata": {
            "tags": []
          },
          "execution_count": 27
        }
      ]
    },
    {
      "cell_type": "markdown",
      "metadata": {
        "id": "DD4MSrttwwqp",
        "colab_type": "text"
      },
      "source": [
        "Good!"
      ]
    },
    {
      "cell_type": "markdown",
      "metadata": {
        "id": "_2iXv3JZVz3L",
        "colab_type": "text"
      },
      "source": [
        "### Train Test Split"
      ]
    },
    {
      "cell_type": "code",
      "metadata": {
        "id": "dl7vODMjVt6o",
        "colab_type": "code",
        "colab": {}
      },
      "source": [
        "X_train, y_train = df.drop(columns=['label']), df.label.values \n",
        "\n",
        "X_test, y_test = df_test.drop(columns=['label']), df_test.label.values"
      ],
      "execution_count": null,
      "outputs": []
    },
    {
      "cell_type": "markdown",
      "metadata": {
        "id": "Z130tjZow4qt",
        "colab_type": "text"
      },
      "source": [
        "### Augmenation of train set"
      ]
    },
    {
      "cell_type": "code",
      "metadata": {
        "id": "BimPwrqnwuAd",
        "colab_type": "code",
        "colab": {}
      },
      "source": [
        "import cv2\n",
        "import imutils\n",
        "from skimage.transform import AffineTransform, warp\n",
        "\n",
        "def horiz_flip_row(row):\n",
        "    \"\"\"\n",
        "    Horizontally flips the image (this means that it flips the image with respect \n",
        "    to the vertical line)\n",
        "    Args:\n",
        "        row with 784 integers of pixel values of original image\n",
        "    Returns:\n",
        "        row with 784 pixel values of transformed image\n",
        "    \"\"\"\n",
        "    img_array = np.array(row).reshape(28, -1)\n",
        "    flipped_img = np.fliplr(img_array)\n",
        "    flipped_row = pd.DataFrame(list(flipped_img.reshape(1, 784)), columns=X_train.columns)\n",
        "    return flipped_row\n",
        "\n",
        "\n",
        "def rotate_row(row): \n",
        "    \"\"\"\n",
        "    Rotates the image on some random angle between -20 and 20\n",
        "    Args:\n",
        "        row with 784 integers of pixel values of original image\n",
        "    Returns:\n",
        "        row with 784 pixel values of transformed image\n",
        "    \"\"\"\n",
        "    img_row = np.array(row).reshape(28, 28)\n",
        "    angle = np.random.randint(-10, 10)\n",
        "    cv2.imwrite('gest_row_to_rotate.jpg', img_row)\n",
        "    rotated_img = imutils.rotate(cv2.imread('gest_row_to_rotate.jpg'), angle)\n",
        "    rotated_row = pd.DataFrame(list(rotated_img[:,:,0].reshape(1, 784)), columns=X_train.columns)\n",
        "    return rotated_row\n",
        "\n",
        "\n",
        "def move_vertically_row(row):\n",
        "    \"\"\"\n",
        "    Moves image up or down a bit\n",
        "    Args:\n",
        "        row with 784 integers of pixel values of original image\n",
        "    Returns:\n",
        "        row with 784 pixel values of transformed image\n",
        "    \"\"\"\n",
        "    shift = np.random.randint(-3, 3)\n",
        "    af_trans = AffineTransform(translation=(0, shift)) \n",
        "    img_array = np.array(row).reshape(28, -1)\n",
        "    shifted_img = warp(img_array, af_trans, mode='wrap')\n",
        "    shifted_row = pd.DataFrame(list(shifted_img.reshape(1, 784)), columns=X_train.columns)\n",
        "    return shifted_row\n",
        "    \n",
        "    \n",
        "def move_horizontally_row(row):\n",
        "    \"\"\"\n",
        "    Moves image left or righ a bit\n",
        "    Args:\n",
        "        row with 784 integers of pixel values of original image\n",
        "    Returns:\n",
        "        row with 784 pixel values of transformed image\n",
        "    \"\"\"\n",
        "    shift = np.random.randint(-3, 3)\n",
        "    af_trans = AffineTransform(translation=(shift, 0)) \n",
        "    img_array = np.array(row).reshape(28, -1)\n",
        "    shifted_img = warp(img_array, af_trans, mode='wrap')\n",
        "    shifted_row = pd.DataFrame(list(shifted_img.reshape(1, 784)), columns=X_train.columns)\n",
        "    return shifted_row\n",
        "\n",
        "def noise_row(row, noise_type='gaussian'):\n",
        "    \"\"\"\n",
        "    Induces some random noise on the image. For now, it's only gaussian\n",
        "    Other options will be added later\n",
        "    Args:\n",
        "        row with 784 integers of pixel values of original image\n",
        "    Returns:\n",
        "        row with 784 pixel values of transformed image\n",
        "    \"\"\"\n",
        "    img_array = np.array(row).reshape(28, -1)\n",
        "    if noise_type=='gaussian':\n",
        "        row, col = img_array.shape\n",
        "        mean, var = np.random.randint(60, 80), np.random.randint(9, 25) \n",
        "        gauss = np.random.normal(mean, np.sqrt(var), (row, col)).reshape(row, col)\n",
        "        noised_img = img_array+gauss\n",
        "        noised_row = pd.DataFrame(list(noised_img.reshape(1, 784)), columns=X_train.columns)\n",
        "        return noised_row\n",
        "\n",
        "def blur_row(row):\n",
        "    \"\"\"\n",
        "    Puts gaussian blur on the image\n",
        "    Args:\n",
        "        row with 784 integers of pixel values of original image\n",
        "    Returns:\n",
        "        row with 784 pixel values of transformed image\n",
        "    \"\"\"\n",
        "    img_array = np.array(row).reshape(28, -1)\n",
        "    cv2.imwrite('ges_row_to_blur.jpg', img_array)\n",
        "    blurred_img = cv2.GaussianBlur(cv2.imread('ges_row_to_blur.jpg'), (3, 3), 0)[:,:,0]\n",
        "    blurred_row = pd.DataFrame(list(blurred_img.reshape(1, 784)), columns=X_train.columns)\n",
        "    return blurred_row\n",
        "\n",
        "\n",
        "\n",
        "trans_options = ['horiz_flip_row', 'rotate_row', 'move_vertically_row', 'move_horizontally_row', \n",
        "              'blur_row', 'noise_row']\n",
        "\n",
        "def augmentate(row_index, X_train, y_train, horiz_flip=True, rotate_r=True, move_vert=False, move_hor=False, blur_r=False, noise_r=True):\n",
        "    \"\"\"\n",
        "    Horizontally flips the image (this means that it flips the image with respect \n",
        "    to the vertical line)\n",
        "    Args:\n",
        "        row_index: index of row to take image and it's label from\n",
        "        X_train, y_train: train data, pixel values of images and labels\n",
        "        horiz_flip: boolean, defaults to True\n",
        "        rotate_r: boolean, defaults to True\n",
        "        move_vert: boolean, defaults to False\n",
        "        move_hor:  boolean, defaults to False\n",
        "        blur_r: boolean, defaults to False\n",
        "        noise_r: boolean, defaults to True\n",
        "    Returns:\n",
        "        dataframe with pixel values for generated images\n",
        "        labels for new images (same label as the label of original pic)\n",
        "    \"\"\"\n",
        "    start_df = X_train.head(0)\n",
        "    initial_row, its_label = X_train.iloc[row_index,:], y_train[row_index]\n",
        "    finish_label = [its_label]*np.sum([horiz_flip, rotate_r, move_vert, move_hor, blur_r, noise_r])\n",
        "    if horiz_flip:\n",
        "        start_df = start_df.append(horiz_flip_row(initial_row))\n",
        "    if rotate_r:\n",
        "        start_df = start_df.append(rotate_row(initial_row))\n",
        "    if move_vert:\n",
        "        start_df = start_df.append(move_vertically_row(initial_row))\n",
        "    if move_hor:\n",
        "        start_df = start_df.append(move_horizontally_row(initial_row))\n",
        "    if blur_r:\n",
        "        start_df = start_df.append(blur_row(initial_row))\n",
        "    if noise_r:\n",
        "        start_df = start_df.append(noise_row(initial_row))\n",
        "    return start_df, finish_label"
      ],
      "execution_count": null,
      "outputs": []
    },
    {
      "cell_type": "code",
      "metadata": {
        "id": "figyzXs6zl76",
        "colab_type": "code",
        "colab": {
          "base_uri": "https://localhost:8080/",
          "height": 1000
        },
        "outputId": "a43a2527-57e0-4005-ba78-554f47ca687d"
      },
      "source": [
        "# let's try to generate new images for the image in the 5th row\n",
        "new_x_chunk, new_y_labels = augmentate(5, X_train, y_train, blur_r=True, move_vert=True, move_hor=True)\n",
        "for i in range(len(new_x_chunk)):\n",
        "    plt.figure()\n",
        "    plt.imshow(np.array(new_x_chunk.iloc[i,:]).reshape(28, 28))\n",
        "    plt.title(trans_options[i])"
      ],
      "execution_count": null,
      "outputs": [
        {
          "output_type": "display_data",
          "data": {
            "image/png": "[encoded data removed]",
            "text/plain": [
              "<Figure size 432x288 with 1 Axes>"
            ]
          },
          "metadata": {
            "tags": [],
            "needs_background": "light"
          }
        },
        {
          "output_type": "display_data",
          "data": {
            "image/png": "[encoded data removed]",
            "text/plain": [
              "<Figure size 432x288 with 1 Axes>"
            ]
          },
          "metadata": {
            "tags": [],
            "needs_background": "light"
          }
        },
        {
          "output_type": "display_data",
          "data": {
            "image/png": "[encoded data removed]",
            "text/plain": [
              "<Figure size 432x288 with 1 Axes>"
            ]
          },
          "metadata": {
            "tags": [],
            "needs_background": "light"
          }
        },
        {
          "output_type": "display_data",
          "data": {
            "image/png": "[encoded data removed]",
            "text/plain": [
              "<Figure size 432x288 with 1 Axes>"
            ]
          },
          "metadata": {
            "tags": [],
            "needs_background": "light"
          }
        },
        {
          "output_type": "display_data",
          "data": {
            "image/png": "[encoded data removed]",
            "text/plain": [
              "<Figure size 432x288 with 1 Axes>"
            ]
          },
          "metadata": {
            "tags": [],
            "needs_background": "light"
          }
        },
        {
          "output_type": "display_data",
          "data": {
            "image/png": "[encoded data removed]",
            "text/plain": [
              "<Figure size 432x288 with 1 Axes>"
            ]
          },
          "metadata": {
            "tags": [],
            "needs_background": "light"
          }
        }
      ]
    },
    {
      "cell_type": "code",
      "metadata": {
        "id": "xoqKfiQdzwzV",
        "colab_type": "code",
        "colab": {}
      },
      "source": [
        "import time\n",
        "def augment_train(X_train, y_train, max_quantity_to_add=4500, path_to_save_aug=PATH_AUG):\n",
        "    \"\"\"\n",
        "    Takes train set, images and labels, and generates some number of new pics of each label\n",
        "    Args:\n",
        "        X_train: df with pixel values\n",
        "        y_train: labels\n",
        "        max_quantity_to_add: maximal quantity of images of each label to be generated\n",
        "        path_to_save_aug: path to save df with generated and train images together\n",
        "    \"\"\"\n",
        "\n",
        "    t0 = time.time()\n",
        "    start_x, start_y = X_train.head(0), list([5])\n",
        "    # dict with counters, we'll make < max_quantity_to_add pics for each label\n",
        "    counters_dict = {label: 0 for label in np.unique(y_train)}\n",
        "\n",
        "    # now, let's take 1 random image out of all generated for each row until we reach max_quantity_to_add \n",
        "    # in the previous version, the whole amount of generated pics for each row was taken\n",
        "    # so, we will have more variety, but the code might be slower\n",
        "\n",
        "    for i in X_train.index.tolist(): \n",
        "        if counters_dict[y_train[i]] <= max_quantity_to_add:\n",
        "            new_x_chunk, new_y_labels = augmentate(i, X_train, y_train, move_hor=True, move_vert=True)\n",
        "            start_x = start_x.append(new_x_chunk) # previous\n",
        "            start_y = start_y + new_y_labels # previous\n",
        "            counters_dict[y_train[i]] += len(new_y_labels) # previous\n",
        "\n",
        "    t1 = time.time()\n",
        "    print(f'Generating new {len(start_x)} images took {t1-t0}s')\n",
        "    start_y = start_y[1:]\n",
        "    augmented_train_x = X_train.append(start_x)\n",
        "    augmented_train_y = list(y_train) + start_y\n",
        "\n",
        "    augmented_train = augmented_train_x.copy().astype('int32')\n",
        "    augmented_train['label'] = pd.Series(augmented_train_y)\n",
        "    for i in range(len(augmented_train)):\n",
        "        augmented_train.iloc[i,-1] = augmented_train_y[i]\n",
        "\n",
        "    # flip columns here to make it easier to work later\n",
        "    cols = list(augmented_train.columns)\n",
        "    cols = [cols[-1]] + cols[:-1]\n",
        "    augmented_train = augmented_train[cols]\n",
        "\n",
        "    augmented_train.to_csv(path_to_save_aug)\n",
        "    return augmented_train"
      ],
      "execution_count": null,
      "outputs": []
    },
    {
      "cell_type": "code",
      "metadata": {
        "id": "1n3Mplzg345h",
        "colab_type": "code",
        "colab": {
          "base_uri": "https://localhost:8080/",
          "height": 437
        },
        "outputId": "ca07453d-342e-4350-e516-3147279c4661"
      },
      "source": [
        "# sign_aug = augment_train(X_train, y_train)\n",
        "sign_aug = pd.read_csv(PATH_AUG).drop(columns=['Unnamed: 0']) # to save a lot of time :)\n",
        "sign_aug.label.value_counts()"
      ],
      "execution_count": 48,
      "outputs": [
        {
          "output_type": "execute_result",
          "data": {
            "text/plain": [
              "17    5799\n",
              "16    5784\n",
              "11    5746\n",
              "22    5730\n",
              "5     5709\n",
              "18    5704\n",
              "3     5701\n",
              "14    5701\n",
              "19    5691\n",
              "23    5669\n",
              "8     5667\n",
              "20    5666\n",
              "13    5656\n",
              "2     5649\n",
              "0     5631\n",
              "24    5623\n",
              "10    5619\n",
              "6     5595\n",
              "15    5593\n",
              "21    5587\n",
              "12    5560\n",
              "7     5518\n",
              "1     5515\n",
              "4     5462\n",
              "Name: label, dtype: int64"
            ]
          },
          "metadata": {
            "tags": []
          },
          "execution_count": 48
        }
      ]
    },
    {
      "cell_type": "markdown",
      "metadata": {
        "id": "Rr0O-CpB0CAf",
        "colab_type": "text"
      },
      "source": [
        "### Time for NNS"
      ]
    },
    {
      "cell_type": "code",
      "metadata": {
        "id": "JdhIsafN-y5S",
        "colab_type": "code",
        "colab": {}
      },
      "source": [
        "import numpy as np\n",
        "import pandas as pd\n",
        "import matplotlib.pyplot as plt\n",
        "import seaborn as sns\n",
        "import re\n",
        "import os\n",
        "import argparse\n",
        "from collections import OrderedDict\n",
        "from xgboost import XGBClassifier\n",
        "\n",
        "### Image processing ###\n",
        "from scipy.ndimage import zoom\n",
        "from scipy.spatial import distance\n",
        "import imutils\n",
        "from scipy import ndimage\n",
        "import cv2\n",
        "import dlib\n",
        "from __future__ import division\n",
        "from imutils import face_utils\n",
        "\n",
        "### Deep Learning models ###\n",
        "import tensorflow.keras\n",
        "from tensorflow.keras.preprocessing.image import ImageDataGenerator, array_to_img, img_to_array, load_img\n",
        "from tensorflow.keras.callbacks import TensorBoard\n",
        "from tensorflow.keras.models import Sequential\n",
        "from tensorflow.keras.layers import Dense, Dropout, Activation, Flatten\n",
        "from tensorflow.keras.layers import Conv2D, MaxPooling2D, SeparableConv2D\n",
        "from tensorflow.keras.layers import Dense, Dropout, Activation, Flatten, Conv2D, MaxPooling2D, SeparableConv2D, ZeroPadding2D, UpSampling2D, BatchNormalization, Input, GlobalAveragePooling2D, AveragePooling2D\n",
        "#from tensorflow. keras.utils import np_utils\n",
        "from tensorflow.keras.regularizers import l2\n",
        "from tensorflow.keras.optimizers import SGD, RMSprop\n",
        "from tensorflow.keras.utils import to_categorical\n",
        "from tensorflow.keras.layers import BatchNormalization\n",
        "from tensorflow.keras import models\n",
        "from keras.utils.vis_utils import plot_model\n",
        "from tensorflow.keras.layers import Input, GlobalAveragePooling2D\n",
        "from tensorflow.keras.models import Model\n",
        "from tensorflow.keras import layers\n",
        "from tensorflow.keras.applications import densenet\n",
        "from tensorflow.keras.callbacks import EarlyStopping, ModelCheckpoint, ReduceLROnPlateau\n",
        "\n",
        "### Build SVM models ###\n",
        "from sklearn.preprocessing import OneHotEncoder\n",
        "from sklearn.model_selection import train_test_split\n",
        "from sklearn.metrics import accuracy_score\n",
        "from sklearn import svm\n",
        "\n",
        "### Same trained models ###\n",
        "import h5py\n",
        "from keras.models import model_from_json\n",
        "import pickle\n",
        "\n",
        "import time"
      ],
      "execution_count": 3,
      "outputs": []
    },
    {
      "cell_type": "markdown",
      "metadata": {
        "id": "GFrC7Exgeplg",
        "colab_type": "text"
      },
      "source": [
        "### Redefining train and test sets to feed to NN"
      ]
    },
    {
      "cell_type": "code",
      "metadata": {
        "id": "EmQBcu11WIL7",
        "colab_type": "code",
        "colab": {
          "base_uri": "https://localhost:8080/",
          "height": 50
        },
        "outputId": "30840879-2b5a-4c36-f836-d8f2186f7f0d"
      },
      "source": [
        "# load the data\n",
        "df = pd.read_csv('/content/drive/My Drive/sign_mnist_train.csv')\n",
        "sign_aug = pd.read_csv(PATH_AUG).drop(columns=['Unnamed: 0'])\n",
        "df_test = pd.read_csv('/content/drive/My Drive/sign_mnist_test.csv')\n",
        "\n",
        "# get independent and targets vars\n",
        "X_train, y_train = df.drop(columns=['label']), df.label.values\n",
        "X_aug, y_aug = sign_aug.drop(columns=['label']), sign_aug.label.values\n",
        "X_test, y_test = df_test.drop(columns=['label']), df_test.label.values\n",
        "\n",
        "shape_x = 28\n",
        "shape_y = 28\n",
        "\n",
        "# reshape\n",
        "X_train = X_train.values.reshape(-1, shape_x, shape_y, 1)\n",
        "X_test = X_test.values.reshape(-1, shape_x, shape_y, 1)\n",
        "X_aug = X_aug.values.reshape(-1, shape_x, shape_y, 1)\n",
        "\n",
        "# rescale\n",
        "X_train = X_train / X_train.max()\n",
        "X_test = X_test / X_test.max()\n",
        "X_aug = X_aug/X_aug.max()\n",
        "\n",
        "# check out shapes\n",
        "print(f'Train data has shape: {X_train.shape},augmented of shape {X_aug.shape} \\\n",
        "and test data is of shape: {X_test.shape}')\n",
        "\n",
        "# define some consts\n",
        "input_shape = X_train.shape[1:]\n",
        "classes = np.unique(y_train)\n",
        "nClasses = len(classes)\n",
        "print(f'Input shape: {input_shape}, and target classes: {classes}')\n"
      ],
      "execution_count": 4,
      "outputs": [
        {
          "output_type": "stream",
          "text": [
            "Train data has shape: (27455, 28, 28, 1),augmented of shape (135575, 28, 28, 1) and test data is of shape: (7172, 28, 28, 1)\n",
            "Input shape: (28, 28, 1), and target classes: [ 0  1  2  3  4  5  6  7  8 10 11 12 13 14 15 16 17 18 19 20 21 22 23 24]\n"
          ],
          "name": "stdout"
        }
      ]
    },
    {
      "cell_type": "code",
      "metadata": {
        "id": "39THk7_5-OnP",
        "colab_type": "code",
        "colab": {}
      },
      "source": [
        "y_train = to_categorical(y_train)\n",
        "y_test = to_categorical(y_test)\n",
        "y_aug = to_categorical(y_aug)"
      ],
      "execution_count": 5,
      "outputs": []
    },
    {
      "cell_type": "code",
      "metadata": {
        "id": "jh5yCOS0ASVE",
        "colab_type": "code",
        "colab": {}
      },
      "source": [
        "# plotting funcs\n",
        "\n",
        "import numpy as np\n",
        "import matplotlib.pyplot as plt\n",
        "\n",
        "\n",
        "def plot_accuracy(history, title=f'accuracy for train and val'):\n",
        "    plt.figure(figsize=(15,4))\n",
        "    plt.plot(np.arange(1, len(history.history['accuracy'])+ 1), history.history['accuracy'],'r', label='accuracy')\n",
        "    plt.plot(np.arange(1, len(history.history['val_accuracy'])+1), history.history['val_accuracy'],'b', label = 'val_accuracy')\n",
        "    best_val_acc = round(max(history.history['val_accuracy']), 5)\n",
        "    plt.scatter(np.argmax(list(history.history['val_accuracy']))+1, max(history.history['val_accuracy']), c='magenta',\n",
        "               label=f'highest val_accuracy: {best_val_acc}')\n",
        "    plt.xlabel('epoch')\n",
        "    plt.ylabel('accuracy score')\n",
        "    plt.ylim([0, 1])\n",
        "    plt.xlim([1, len(history.history['accuracy'])+1])\n",
        "    plt.title(title)\n",
        "    plt.legend()\n",
        "    plt.show()\n",
        "\n",
        "\n",
        "def plot_loss(history, title=f'losses for train and val'):\n",
        "    plt.figure(figsize=(15,4))\n",
        "    plt.plot(np.arange(1, len(history.history['loss'])+ 1), history.history['loss'],'r', label='loss')\n",
        "    plt.plot(np.arange(1, len(history.history['val_loss'])+1), history.history['val_loss'],'b', label = 'val_loss')\n",
        "    best_val_loss = round(min(history.history['val_loss']), 5)\n",
        "    plt.scatter(np.argmin(list(history.history['val_loss']))+1, min(history.history['val_loss']), c='magenta',\n",
        "               label=f'lowest val_loss: {best_val_loss}')\n",
        "    plt.xlabel('epoch')\n",
        "    plt.ylabel('loss')\n",
        "    plt.ylim([0, 5])\n",
        "    plt.xlim([1, len(history.history['loss'])+1])\n",
        "    plt.title(title)\n",
        "    plt.legend()\n",
        "    plt.show()"
      ],
      "execution_count": 6,
      "outputs": []
    },
    {
      "cell_type": "markdown",
      "metadata": {
        "id": "813ZT98hALQ8",
        "colab_type": "text"
      },
      "source": [
        "### CNN @TF"
      ]
    },
    {
      "cell_type": "code",
      "metadata": {
        "id": "oypKZ_Wi-OpW",
        "colab_type": "code",
        "colab": {}
      },
      "source": [
        "def createcnn0():\n",
        "    model = Sequential()\n",
        "\n",
        "    model.add(Conv2D(64, (3, 3), padding='same', input_shape=input_shape))\n",
        "    model.add(BatchNormalization())\n",
        "    model.add(Activation('relu'))\n",
        "    model.add(MaxPooling2D(pool_size=(2, 2), strides=None, padding='same'))\n",
        "    model.add(Dropout(0.15))\n",
        "\n",
        "    model.add(Conv2D(128, (3, 3), padding='same'))\n",
        "    model.add(BatchNormalization())\n",
        "    model.add(Activation('relu'))\n",
        "    model.add(MaxPooling2D(pool_size=(2, 2), strides=None, padding='same'))\n",
        "    model.add(Dropout(0.15))\n",
        "\n",
        "    model.add(Conv2D(256, (3, 3), padding='same'))\n",
        "    model.add(BatchNormalization())\n",
        "    model.add(Activation('relu'))\n",
        "    model.add(MaxPooling2D(pool_size=(2, 2), strides=None, padding='same'))\n",
        "    model.add(Dropout(0.15))\n",
        "\n",
        "    model.add(Conv2D(512, (3, 3), padding='same'))\n",
        "    model.add(BatchNormalization())\n",
        "    model.add(Activation('relu'))\n",
        "    model.add(MaxPooling2D(pool_size=(2, 2), strides=None, padding='same'))\n",
        "    model.add(Dropout(0.15))\n",
        "\n",
        "    model.add(Flatten())\n",
        "\n",
        "    model.add(Dense(512))\n",
        "    model.add(BatchNormalization())\n",
        "    model.add(Activation('relu'))\n",
        "    model.add(Dropout(0.15))\n",
        "\n",
        "    model.add(Dense(256))\n",
        "    model.add(BatchNormalization())\n",
        "    model.add(Activation('relu'))\n",
        "    model.add(Dropout(0.15))\n",
        "\n",
        "    model.add(Dense(25)) # = y_test.shape[1]\n",
        "    model.add(Activation('softmax'))\n",
        "    return model\n"
      ],
      "execution_count": 18,
      "outputs": []
    },
    {
      "cell_type": "code",
      "metadata": {
        "id": "hh_Hsg7r-OrT",
        "colab_type": "code",
        "colab": {
          "base_uri": "https://localhost:8080/",
          "height": 487
        },
        "outputId": "b16e9bbd-41fd-479c-ccc0-2e1605fa00fa"
      },
      "source": [
        "cnn0_sign = createcnn0()\n",
        "cnn0_sign.compile(optimizer='adam', loss='categorical_crossentropy', metrics=['accuracy'])\n",
        " \n",
        "batch_size = 32\n",
        "epochs = 10\n",
        "\n",
        "mcp_save = ModelCheckpoint('cnn0_sign.h5', save_best_only=True, monitor='val_accuracy', mode='max')\n",
        "reduce_lr_acc = ReduceLROnPlateau(monitor='val_loss', factor=0.75, patience=2, verbose=1, min_delta=1e-4, mode='max')\n",
        "\n",
        "\n",
        "\n",
        "history_cnn0_sign = cnn0_sign.fit(\n",
        "    X_aug, y_aug, \n",
        "    epochs = epochs, \n",
        "    batch_size=batch_size,\n",
        "   validation_data=(X_test, y_test),\n",
        "   callbacks=[mcp_save, reduce_lr_acc]) "
      ],
      "execution_count": 20,
      "outputs": [
        {
          "output_type": "stream",
          "text": [
            "Epoch 1/10\n",
            "4237/4237 [==============================] - 33s 8ms/step - loss: 1.2327 - accuracy: 0.6291 - val_loss: 0.2581 - val_accuracy: 0.9219\n",
            "Epoch 2/10\n",
            "4237/4237 [==============================] - 32s 8ms/step - loss: 1.0440 - accuracy: 0.6853 - val_loss: 0.0744 - val_accuracy: 0.9796\n",
            "Epoch 3/10\n",
            "4231/4237 [============================>.] - ETA: 0s - loss: 1.0321 - accuracy: 0.6888\n",
            "Epoch 00003: ReduceLROnPlateau reducing learning rate to 0.0007500000356230885.\n",
            "4237/4237 [==============================] - 32s 8ms/step - loss: 1.0321 - accuracy: 0.6888 - val_loss: 0.0798 - val_accuracy: 0.9841\n",
            "Epoch 4/10\n",
            "4237/4237 [==============================] - 32s 8ms/step - loss: 1.0222 - accuracy: 0.6917 - val_loss: 0.0334 - val_accuracy: 0.9862\n",
            "Epoch 5/10\n",
            "4234/4237 [============================>.] - ETA: 0s - loss: 1.0221 - accuracy: 0.6917\n",
            "Epoch 00005: ReduceLROnPlateau reducing learning rate to 0.0005625000048894435.\n",
            "4237/4237 [==============================] - 32s 8ms/step - loss: 1.0221 - accuracy: 0.6917 - val_loss: 0.0844 - val_accuracy: 0.9778\n",
            "Epoch 6/10\n",
            "4237/4237 [==============================] - 32s 8ms/step - loss: 1.0181 - accuracy: 0.6927 - val_loss: 0.0448 - val_accuracy: 0.9912\n",
            "Epoch 7/10\n",
            "4237/4237 [==============================] - ETA: 0s - loss: 1.0175 - accuracy: 0.6929\n",
            "Epoch 00007: ReduceLROnPlateau reducing learning rate to 0.0004218749818392098.\n",
            "4237/4237 [==============================] - 32s 8ms/step - loss: 1.0175 - accuracy: 0.6929 - val_loss: 0.0365 - val_accuracy: 0.9859\n",
            "Epoch 8/10\n",
            "4237/4237 [==============================] - 32s 8ms/step - loss: 1.0158 - accuracy: 0.6930 - val_loss: 0.0335 - val_accuracy: 0.9926\n",
            "Epoch 9/10\n",
            "4231/4237 [============================>.] - ETA: 0s - loss: 1.0156 - accuracy: 0.6927\n",
            "Epoch 00009: ReduceLROnPlateau reducing learning rate to 0.00031640623637940735.\n",
            "4237/4237 [==============================] - 33s 8ms/step - loss: 1.0155 - accuracy: 0.6927 - val_loss: 0.0884 - val_accuracy: 0.9816\n",
            "Epoch 10/10\n",
            "4237/4237 [==============================] - 32s 8ms/step - loss: 1.0152 - accuracy: 0.6936 - val_loss: 0.0132 - val_accuracy: 0.9961\n"
          ],
          "name": "stdout"
        }
      ]
    },
    {
      "cell_type": "markdown",
      "metadata": {
        "id": "4gP6SksShaNV",
        "colab_type": "text"
      },
      "source": [
        "Ok, our test set is very simple for NN, let's use some val_split to train this NN"
      ]
    },
    {
      "cell_type": "code",
      "metadata": {
        "id": "xTNWIfOy-Ovb",
        "colab_type": "code",
        "colab": {}
      },
      "source": [
        ""
      ],
      "execution_count": null,
      "outputs": []
    },
    {
      "cell_type": "code",
      "metadata": {
        "id": "jxn2XtvjZYPD",
        "colab_type": "code",
        "colab": {
          "base_uri": "https://localhost:8080/",
          "height": 487
        },
        "outputId": "f0948b43-c27d-4b1d-9f91-136b63a30b14"
      },
      "source": [
        "cnn0_valsplit = createcnn0()\n",
        "cnn0_valsplit.compile(optimizer='adam', loss='categorical_crossentropy', metrics=['accuracy'])\n",
        " \n",
        "batch_size = 32\n",
        "epochs = 10\n",
        "\n",
        "mcp_save = ModelCheckpoint('cnn0_valsplit.h5', save_best_only=True, monitor='val_accuracy', mode='max')\n",
        "reduce_lr_acc = ReduceLROnPlateau(monitor='val_loss', factor=0.75, patience=2, verbose=1, min_delta=1e-4, mode='max')\n",
        "\n",
        "\n",
        "\n",
        "history_cnn0_valsplit = cnn0_valsplit.fit(\n",
        "    X_aug, y_aug, \n",
        "    epochs = epochs, \n",
        "    batch_size=batch_size,\n",
        "   validation_split=0.2,\n",
        "   callbacks=[mcp_save, reduce_lr_acc]) "
      ],
      "execution_count": 23,
      "outputs": [
        {
          "output_type": "stream",
          "text": [
            "Epoch 1/10\n",
            "3390/3390 [==============================] - 29s 8ms/step - loss: 1.1922 - accuracy: 0.6422 - val_loss: 1.3263 - val_accuracy: 0.5992\n",
            "Epoch 2/10\n",
            "3390/3390 [==============================] - 28s 8ms/step - loss: 0.9834 - accuracy: 0.7038 - val_loss: 1.2932 - val_accuracy: 0.6059\n",
            "Epoch 3/10\n",
            "3385/3390 [============================>.] - ETA: 0s - loss: 0.9718 - accuracy: 0.7077\n",
            "Epoch 00003: ReduceLROnPlateau reducing learning rate to 0.0007500000356230885.\n",
            "3390/3390 [==============================] - 28s 8ms/step - loss: 0.9717 - accuracy: 0.7078 - val_loss: 1.2789 - val_accuracy: 0.6096\n",
            "Epoch 4/10\n",
            "3390/3390 [==============================] - 28s 8ms/step - loss: 0.9579 - accuracy: 0.7126 - val_loss: 1.3831 - val_accuracy: 0.5721\n",
            "Epoch 5/10\n",
            "3390/3390 [==============================] - 29s 9ms/step - loss: 0.9583 - accuracy: 0.7121 - val_loss: 1.2787 - val_accuracy: 0.6098\n",
            "Epoch 6/10\n",
            "3385/3390 [============================>.] - ETA: 0s - loss: 0.9566 - accuracy: 0.7128\n",
            "Epoch 00006: ReduceLROnPlateau reducing learning rate to 0.0005625000048894435.\n",
            "3390/3390 [==============================] - 28s 8ms/step - loss: 0.9569 - accuracy: 0.7127 - val_loss: 1.2788 - val_accuracy: 0.6098\n",
            "Epoch 7/10\n",
            "3390/3390 [==============================] - 28s 8ms/step - loss: 0.9534 - accuracy: 0.7137 - val_loss: 1.2779 - val_accuracy: 0.6099\n",
            "Epoch 8/10\n",
            "3390/3390 [==============================] - ETA: 0s - loss: 0.9529 - accuracy: 0.7143\n",
            "Epoch 00008: ReduceLROnPlateau reducing learning rate to 0.0004218749818392098.\n",
            "3390/3390 [==============================] - 28s 8ms/step - loss: 0.9529 - accuracy: 0.7143 - val_loss: 1.2776 - val_accuracy: 0.6100\n",
            "Epoch 9/10\n",
            "3390/3390 [==============================] - 28s 8ms/step - loss: 0.9515 - accuracy: 0.7144 - val_loss: 1.2777 - val_accuracy: 0.6099\n",
            "Epoch 10/10\n",
            "3387/3390 [============================>.] - ETA: 0s - loss: 0.9510 - accuracy: 0.7145\n",
            "Epoch 00010: ReduceLROnPlateau reducing learning rate to 0.00031640623637940735.\n",
            "3390/3390 [==============================] - 28s 8ms/step - loss: 0.9513 - accuracy: 0.7144 - val_loss: 1.2776 - val_accuracy: 0.6100\n"
          ],
          "name": "stdout"
        }
      ]
    },
    {
      "cell_type": "code",
      "metadata": {
        "id": "Rpk4hEOfZYZo",
        "colab_type": "code",
        "colab": {
          "base_uri": "https://localhost:8080/",
          "height": 50
        },
        "outputId": "712f7d5e-6d27-4d4e-dfc9-b764ba907f25"
      },
      "source": [
        "# evaluate the last cnn on test set\n",
        "\n",
        "model_to_check = createcnn0()\n",
        "# Loading weights from saved model\n",
        "model_to_check.load_weights('/content/cnn0_valsplit.h5') \n",
        "model_to_check.compile(optimizer='adam', loss='categorical_crossentropy', metrics=['accuracy'])\n",
        " \n",
        "# Evaluate it\n",
        "loss, acc = model_to_check.evaluate(X_test, y_test, verbose=1)\n",
        "print(\"Restored model, accuracy: {:5.2f}%\".format(100*acc))"
      ],
      "execution_count": 24,
      "outputs": [
        {
          "output_type": "stream",
          "text": [
            "225/225 [==============================] - 1s 4ms/step - loss: 0.0445 - accuracy: 0.9875\n",
            "Restored model, accuracy: 98.75%\n"
          ],
          "name": "stdout"
        }
      ]
    },
    {
      "cell_type": "code",
      "metadata": {
        "id": "ZPoVGVm1Tkc6",
        "colab_type": "code",
        "colab": {}
      },
      "source": [
        ""
      ],
      "execution_count": null,
      "outputs": []
    },
    {
      "cell_type": "markdown",
      "metadata": {
        "id": "fvIBuLXOHaNU",
        "colab_type": "text"
      },
      "source": [
        "### Fight with Pytorch"
      ]
    },
    {
      "cell_type": "code",
      "metadata": {
        "id": "lkNTT5fJI1Hs",
        "colab_type": "code",
        "colab": {
          "base_uri": "https://localhost:8080/",
          "height": 188
        },
        "outputId": "1ce3a465-9262-40ec-bc16-948e89cb775b"
      },
      "source": [
        "!pip install GPUtil"
      ],
      "execution_count": 2,
      "outputs": [
        {
          "output_type": "stream",
          "text": [
            "Collecting GPUtil\n",
            "  Downloading https://files.pythonhosted.org/packages/ed/0e/5c61eedde9f6c87713e89d794f01e378cfd9565847d4576fa627d758c554/GPUtil-1.4.0.tar.gz\n",
            "Building wheels for collected packages: GPUtil\n",
            "  Building wheel for GPUtil (setup.py) ... \u001b[?25l\u001b[?25hdone\n",
            "  Created wheel for GPUtil: filename=GPUtil-1.4.0-cp36-none-any.whl size=7413 sha256=827f2d48064bd633b2a15f261aa92460f1f171d4b3e22332ffc20004c98360d7\n",
            "  Stored in directory: /root/.cache/pip/wheels/3d/77/07/80562de4bb0786e5ea186911a2c831fdd0018bda69beab71fd\n",
            "Successfully built GPUtil\n",
            "Installing collected packages: GPUtil\n",
            "Successfully installed GPUtil-1.4.0\n"
          ],
          "name": "stdout"
        }
      ]
    },
    {
      "cell_type": "code",
      "metadata": {
        "id": "No9b-D4-HeSP",
        "colab_type": "code",
        "colab": {}
      },
      "source": [
        "import pandas as pd\n",
        "import torch\n",
        "import torch.nn as nn\n",
        "import torch.nn.functional as F\n",
        "import torchvision\n",
        "import random\n",
        "import GPUtil\n",
        "from torchsummary import summary\n",
        "from torch.autograd import Variable\n",
        "torch.__version__\n",
        "\n",
        "random.seed(42)\n",
        "torch.manual_seed(42)\n",
        "torch.cuda.manual_seed(42)\n",
        "torch.cuda.manual_seed_all(42)\n",
        "\n",
        "\n",
        "device = torch.device('cuda' if torch.cuda.is_available() else 'cpu')\n",
        "\n",
        "train_file = os.path.join(BASE_PATH, 'sig_aug_zip.zip')\n",
        "test_file = os.path.join(BASE_PATH, 'sign_mnist_test_csv.zip')"
      ],
      "execution_count": 7,
      "outputs": []
    },
    {
      "cell_type": "code",
      "metadata": {
        "id": "wwekkixUInRt",
        "colab_type": "code",
        "colab": {}
      },
      "source": [
        "class HandSign(torchvision.datasets.vision.VisionDataset):\n",
        "    def __init__(self, data, labels, transform=None, target_transform=None):\n",
        "      super(HandSign, self).__init__('.',\n",
        "                                         transform=transform,\n",
        "                                         target_transform=target_transform)\n",
        "      \n",
        "      self.data = data\n",
        "      self.labels = labels\n",
        "\n",
        "    def __getitem__(self, idx):\n",
        "      img, target = self.data[idx], self.labels[idx]\n",
        "      if self.transform is not None:\n",
        "        img = self.transform(img)\n",
        "      if self.target_transform is not None:\n",
        "        target = self.target_transform(target)\n",
        "      return img, target\n",
        "\n",
        "    def __len__(self):\n",
        "        return len(self.data)\n",
        "\n",
        "    @staticmethod\n",
        "    def from_file(filename):\n",
        "      df = pd.read_csv(filename, compression=\"zip\")\n",
        "      if 'Unnamed: 0' in df.columns.to_list():\n",
        "          df = df.drop(columns=['Unnamed: 0'])\n",
        "      labels = torch.from_numpy(df.iloc[:,0].values)\n",
        "      data = torch.from_numpy(df.iloc[:,1:].values).float().view(-1,1,28,28)\n",
        "      # train_x = np.array(X_train/X_train.max().values) # rescaled and nice :) -лучше это в трансформ добавить\n",
        "      del df\n",
        "      return HandSign(data, labels)"
      ],
      "execution_count": 8,
      "outputs": []
    },
    {
      "cell_type": "code",
      "metadata": {
        "id": "TgGXc0iCI6KY",
        "colab_type": "code",
        "colab": {}
      },
      "source": [
        "train_data = HandSign.from_file(train_file)\n",
        "test_data = HandSign.from_file(test_file)"
      ],
      "execution_count": 9,
      "outputs": []
    },
    {
      "cell_type": "code",
      "metadata": {
        "id": "w2k5fqz5JCzs",
        "colab_type": "code",
        "colab": {}
      },
      "source": [
        "train_loader = torch.utils.data.DataLoader(dataset=train_data,\n",
        "                                           batch_size=32, \n",
        "                                           shuffle=False,\n",
        "                                           num_workers=2)\n",
        "test_loader = torch.utils.data.DataLoader(dataset=test_data,\n",
        "                                           batch_size=1, \n",
        "                                           shuffle=False,\n",
        "                                           num_workers=1)"
      ],
      "execution_count": 10,
      "outputs": []
    },
    {
      "cell_type": "markdown",
      "metadata": {
        "id": "M1FHfItYa_FL",
        "colab_type": "text"
      },
      "source": [
        "### CNN @Pytorch"
      ]
    },
    {
      "cell_type": "code",
      "metadata": {
        "id": "qdCqwRVNMYTu",
        "colab_type": "code",
        "colab": {}
      },
      "source": [
        ""
      ],
      "execution_count": null,
      "outputs": []
    },
    {
      "cell_type": "code",
      "metadata": {
        "id": "kfd_xgrvbBt3",
        "colab_type": "code",
        "colab": {
          "base_uri": "https://localhost:8080/",
          "height": 454
        },
        "outputId": "39dbd1c3-8d51-41c4-e37c-dd43c8c275d1"
      },
      "source": [
        "class CNN0(torch.nn.Module): \n",
        "    def __init__(self):\n",
        "        super(CNN0, self).__init__()\n",
        "\n",
        "        self.conv1 = nn.Conv2d(1, 128, 3)\n",
        "        self.pool1 = nn.MaxPool2d(2)\n",
        "        self.batchnorm1 = nn.BatchNorm2d(128)\n",
        "\n",
        "\n",
        "        self.conv2 = nn.Conv2d(128, 256, 3)\n",
        "        self.pool2 = nn.MaxPool2d(2)\n",
        "        self.batchnorm2 = nn.BatchNorm2d(256)\n",
        "\n",
        "        self.conv3 = nn.Conv2d(256, 512, 3)\n",
        "        self.pool3 = nn.MaxPool2d(2)\n",
        "        self.batchnorm3 = nn.BatchNorm2d(512)\n",
        "\n",
        "        self.dropout1 = nn.Dropout2d(0.15)\n",
        "        self.fc3 = nn.Linear(512, 270) \n",
        "\n",
        "        self.fc4 = nn.Linear(270, 26)\n",
        "        self.softmax = nn.LogSoftmax(dim=1)\n",
        "    \n",
        "    \n",
        "    def forward(self, x):\n",
        "\n",
        "        x = self.conv1(x)\n",
        "        x = self.batchnorm1(x)\n",
        "        x = F.relu(x)\n",
        "        x = self.pool1(x)\n",
        "        \n",
        "        x = self.conv2(x)\n",
        "        x = self.batchnorm2(x)\n",
        "        x = F.relu(x)\n",
        "        x = self.pool2(x)\n",
        "\n",
        "        x = self.conv3(x)\n",
        "        x = self.batchnorm3(x)\n",
        "        x = F.relu(x)\n",
        "        x = self.pool3(x)\n",
        "        x = self.dropout1(x)\n",
        "\n",
        "                \n",
        "        x = x.view(-1, 512) \n",
        "        x = F.relu(self.fc3(x))\n",
        "        x = F.relu(self.fc4(x))\n",
        "        \n",
        "        return self.softmax(x)\n",
        "\n",
        "modelcnn0 = CNN0().to(device)\n",
        "summary(modelcnn0, (1, 28, 28))"
      ],
      "execution_count": 27,
      "outputs": [
        {
          "output_type": "stream",
          "text": [
            "----------------------------------------------------------------\n",
            "        Layer (type)               Output Shape         Param #\n",
            "================================================================\n",
            "            Conv2d-1          [-1, 128, 26, 26]           1,280\n",
            "       BatchNorm2d-2          [-1, 128, 26, 26]             256\n",
            "         MaxPool2d-3          [-1, 128, 13, 13]               0\n",
            "            Conv2d-4          [-1, 256, 11, 11]         295,168\n",
            "       BatchNorm2d-5          [-1, 256, 11, 11]             512\n",
            "         MaxPool2d-6            [-1, 256, 5, 5]               0\n",
            "            Conv2d-7            [-1, 512, 3, 3]       1,180,160\n",
            "       BatchNorm2d-8            [-1, 512, 3, 3]           1,024\n",
            "         MaxPool2d-9            [-1, 512, 1, 1]               0\n",
            "        Dropout2d-10            [-1, 512, 1, 1]               0\n",
            "           Linear-11                  [-1, 270]         138,510\n",
            "           Linear-12                   [-1, 26]           7,046\n",
            "       LogSoftmax-13                   [-1, 26]               0\n",
            "================================================================\n",
            "Total params: 1,623,956\n",
            "Trainable params: 1,623,956\n",
            "Non-trainable params: 0\n",
            "----------------------------------------------------------------\n",
            "Input size (MB): 0.00\n",
            "Forward/backward pass size (MB): 2.09\n",
            "Params size (MB): 6.19\n",
            "Estimated Total Size (MB): 8.29\n",
            "----------------------------------------------------------------\n"
          ],
          "name": "stdout"
        }
      ]
    },
    {
      "cell_type": "code",
      "metadata": {
        "id": "cSBXC1QkcwU8",
        "colab_type": "code",
        "colab": {
          "base_uri": "https://localhost:8080/",
          "height": 185
        },
        "outputId": "65a979d2-fcee-4312-ef4a-8d48d87da0f7"
      },
      "source": [
        "epochs = 10\n",
        "optimizer = torch.optim.SGD(modelcnn0.parameters(),0.009, momentum=0.7)   \n",
        "loss_func = nn.CrossEntropyLoss()\n",
        "\n",
        "\n",
        "for epoch in range(epochs):  # loop over the dataset multiple times\n",
        "        \n",
        "        running_loss = 0\n",
        "        total_train = 0\n",
        "        correct_train = 0\n",
        "        for i, data in enumerate(train_loader, 0):\n",
        "\n",
        "            # get the inputs\n",
        "            t_image, mask = data\n",
        "            t_image, mask = Variable(t_image.to(device)), Variable(mask.to(device))\n",
        "        \n",
        "            # zeroes the gradient buffers of all parameters\n",
        "            optimizer.zero_grad()\n",
        "            # forward + backward + optimize\n",
        "            outputs = modelcnn0(t_image) # forward\n",
        "            loss = loss_func(outputs, mask) # calculate the loss\n",
        "            loss.backward() # back propagation\n",
        "            optimizer.step() # update gradients\n",
        "\n",
        "            running_loss += loss.item()\n",
        "            \n",
        "            # accuracy\n",
        "            _, predicted = torch.max(outputs.data, 1)\n",
        "            total_train += mask.nelement()\n",
        "            correct_train += predicted.eq(mask.data).sum().item()\n",
        "            train_accuracy = 100 * correct_train / total_train                        \n",
        "            \n",
        "        print('Epoch {}, Train Loss: {:.3f}'.format(epoch, loss.item()), \"Training Accuracy: %d %%\" % (train_accuracy))"
      ],
      "execution_count": 28,
      "outputs": [
        {
          "output_type": "stream",
          "text": [
            "Epoch 0, Train Loss: 1.418 Training Accuracy: 65 %\n",
            "Epoch 1, Train Loss: 1.417 Training Accuracy: 69 %\n",
            "Epoch 2, Train Loss: 1.417 Training Accuracy: 69 %\n",
            "Epoch 3, Train Loss: 1.417 Training Accuracy: 69 %\n",
            "Epoch 4, Train Loss: 1.417 Training Accuracy: 69 %\n",
            "Epoch 5, Train Loss: 1.417 Training Accuracy: 69 %\n",
            "Epoch 6, Train Loss: 1.417 Training Accuracy: 69 %\n",
            "Epoch 7, Train Loss: 1.417 Training Accuracy: 69 %\n",
            "Epoch 8, Train Loss: 1.417 Training Accuracy: 69 %\n",
            "Epoch 9, Train Loss: 1.417 Training Accuracy: 69 %\n"
          ],
          "name": "stdout"
        }
      ]
    },
    {
      "cell_type": "code",
      "metadata": {
        "id": "uyUmwvPE9sIh",
        "colab_type": "code",
        "colab": {
          "base_uri": "https://localhost:8080/",
          "height": 34
        },
        "outputId": "a1216683-8ffd-4585-ba79-6719b2e40616"
      },
      "source": [
        "for epoch in range(1):  # loop over the test \n",
        "        \n",
        "        running_loss = 0\n",
        "        total_test = 0\n",
        "        correct_test = 0\n",
        "        for i, data in enumerate(test_loader, 0):\n",
        "        #for img, target in train_loader:\n",
        "            # get the inputs\n",
        "            t_image, mask = data\n",
        "            t_image, mask = Variable(t_image.to(device)), Variable(mask.to(device))\n",
        "        \n",
        "\n",
        "            # zeroes the gradient buffers of all parameters\n",
        "            optimizer.zero_grad()\n",
        "            # forward + backward + optimize\n",
        "            outputs = modelcnn0(t_image) # forward\n",
        "            loss = loss_func(outputs, mask) # calculate the loss\n",
        "            loss.backward() # back propagation\n",
        "            # optimizer.step() # update gradients # shit shit oi!\n",
        "\n",
        "            # added stuff\n",
        "            running_loss += loss.item()\n",
        "            \n",
        "            # accuracy\n",
        "            _, predicted = torch.max(outputs.data, 1)\n",
        "            total_test += mask.nelement()\n",
        "            correct_test += predicted.eq(mask.data).sum().item()\n",
        "            test_accuracy = 100 * correct_test / total_test                        \n",
        "            \n",
        "        print('Epoch {}, Test Loss: {:.3f}'.format(epoch, loss.item()), \"Test Accuracy: %d %%\" % (test_accuracy))"
      ],
      "execution_count": 29,
      "outputs": [
        {
          "output_type": "stream",
          "text": [
            "Epoch 0, Test Loss: 0.020 Test Accuracy: 81 %\n"
          ],
          "name": "stdout"
        }
      ]
    },
    {
      "cell_type": "markdown",
      "metadata": {
        "id": "_2kPljsUSGq7",
        "colab_type": "text"
      },
      "source": [
        "Nice! :) "
      ]
    },
    {
      "cell_type": "code",
      "metadata": {
        "id": "wDVUdOsHNQjd",
        "colab_type": "code",
        "colab": {}
      },
      "source": [
        "torch.save(modelcnn0, 'modelcnn0_pytorch_do.h5')"
      ],
      "execution_count": 30,
      "outputs": []
    },
    {
      "cell_type": "code",
      "metadata": {
        "id": "4SmKl-P7Rq2Y",
        "colab_type": "code",
        "colab": {}
      },
      "source": [
        ""
      ],
      "execution_count": null,
      "outputs": []
    }
  ]
}